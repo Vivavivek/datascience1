{
 "cells": [
  {
   "cell_type": "markdown",
   "id": "3be07ba1-8b8c-49b8-9e5f-1a9a94575367",
   "metadata": {},
   "source": [
    "Data Science Tools and Ecosystem"
   ]
  },
  {
   "cell_type": "markdown",
   "id": "8756d842-67b0-4880-b8be-7db13441f37e",
   "metadata": {},
   "source": [
    "In this notebook, Data Science Tools and Ecosystem are summarized."
   ]
  },
  {
   "cell_type": "markdown",
   "id": "0c19930f-b33a-4ed8-b68c-d20dc636b48d",
   "metadata": {},
   "source": [
    "Some of the popular languages that Data Scientists use are:\n",
    "1. Python\n",
    "2. Julia\n",
    "3. R"
   ]
  },
  {
   "cell_type": "markdown",
   "id": "3b84165b-0ee0-4a26-93e4-32ddfd93ea3f",
   "metadata": {},
   "source": [
    "Some of the commonly used libraries used by Data Scientists include:\n",
    "1. Pandas\n",
    "2. Nympy\n",
    "3. Scikit"
   ]
  },
  {
   "cell_type": "markdown",
   "id": "4a1460a2-650b-4b9c-a18e-1f9f78754ea8",
   "metadata": {},
   "source": [
    "Data Science tools|\n",
    "| Jypyter  |\n",
    "| Google colab |\n"
   ]
  },
  {
   "cell_type": "markdown",
   "id": "a007c78d-bdc2-4acf-ac69-1728734bcc40",
   "metadata": {},
   "source": [
    "### Examples of Arithmetic Expressions\n",
    "\n",
    "In this section, we will demonstrate some basic arithmetic operations in Python using Jupyter Notebook.\n",
    "\n",
    "#### Basic Arithmetic Operations:\n",
    "- Addition: `5 + 3 = 8`\n",
    "- Subtraction: `10 - 7 = 3`\n",
    "- Multiplication: `4 * 6 = 24`\n",
    "- Division: `20 / 4 = 5`\n",
    "\n",
    "#### Advanced Operations:\n",
    "- Exponentiation: `2 ** 3 = 8`\n",
    "- Modulus: `10 % 3 = 1`\n",
    "- Integer Division: `15 // 4 = 3`\n"
   ]
  },
  {
   "cell_type": "code",
   "execution_count": 1,
   "id": "f701fa1f-de36-4cf1-9076-75d8d589ffe5",
   "metadata": {},
   "outputs": [
    {
     "data": {
      "text/plain": [
       "17"
      ]
     },
     "execution_count": 1,
     "metadata": {},
     "output_type": "execute_result"
    }
   ],
   "source": [
    "#This a simple arithmetic expression to mutiply then add integers\n",
    "(3*4)+5"
   ]
  },
  {
   "cell_type": "code",
   "execution_count": 2,
   "id": "7636e4d2-92f3-44c7-a17a-7a7c078889a2",
   "metadata": {},
   "outputs": [
    {
     "data": {
      "text/plain": [
       "3.3333333333333335"
      ]
     },
     "execution_count": 2,
     "metadata": {},
     "output_type": "execute_result"
    }
   ],
   "source": [
    "#This will convert 200 minutes to hours by diving by 60\n",
    "200/60"
   ]
  },
  {
   "cell_type": "markdown",
   "id": "513e0bc8-afbe-4897-b96c-852fe3c4c23c",
   "metadata": {},
   "source": [
    "**Objectives:**\n",
    "unordered list\n",
    "1. Python\n",
    "2. R\n",
    "3. Julia"
   ]
  },
  {
   "cell_type": "markdown",
   "id": "22b509f9-e3d0-4b1e-a9b9-ee7371cab06a",
   "metadata": {},
   "source": [
    "##Author##\n",
    "vivek"
   ]
  }
 ],
 "metadata": {
  "kernelspec": {
   "display_name": "Python 3 (ipykernel)",
   "language": "python",
   "name": "python3"
  },
  "language_info": {
   "codemirror_mode": {
    "name": "ipython",
    "version": 3
   },
   "file_extension": ".py",
   "mimetype": "text/x-python",
   "name": "python",
   "nbconvert_exporter": "python",
   "pygments_lexer": "ipython3",
   "version": "3.12.8"
  }
 },
 "nbformat": 4,
 "nbformat_minor": 5
}
